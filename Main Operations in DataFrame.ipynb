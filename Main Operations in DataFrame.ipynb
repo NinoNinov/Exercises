{
  "nbformat": 4,
  "nbformat_minor": 0,
  "metadata": {
    "colab": {
      "provenance": [],
      "authorship_tag": "ABX9TyNyNL+RgGxbmzqraSNILzl9",
      "include_colab_link": true
    },
    "kernelspec": {
      "name": "python3",
      "display_name": "Python 3"
    },
    "language_info": {
      "name": "python"
    }
  },
  "cells": [
    {
      "cell_type": "markdown",
      "metadata": {
        "id": "view-in-github",
        "colab_type": "text"
      },
      "source": [
        "<a href=\"https://colab.research.google.com/github/NinoNinov/DS-Finance/blob/main/Main%20Operations%20in%20DataFrame.ipynb\" target=\"_parent\"><img src=\"https://colab.research.google.com/assets/colab-badge.svg\" alt=\"Open In Colab\"/></a>"
      ]
    },
    {
      "cell_type": "code",
      "execution_count": null,
      "metadata": {
        "id": "plUnBjqwRgC2"
      },
      "outputs": [],
      "source": [
        "# prompt: give me main operations in pandas dataframe with exaplmes\n",
        "\n",
        "import pandas as pd\n",
        "\n",
        "# Sample DataFrame\n",
        "data = {'col1': [1, 2, 3, 4, 5],\n",
        "        'col2': [6, 7, 8, 9, 10],\n",
        "        'col3': ['A', 'B', 'C', 'D', 'E']}\n",
        "df = pd.DataFrame(data)\n",
        "\n",
        "# 1. Viewing Data\n",
        "print(\"Head:\\n\", df.head(2))  # First 2 rows\n",
        "print(\"\\nTail:\\n\", df.tail(2))  # Last 2 rows\n",
        "print(\"\\nInfo:\\n\", df.info())  # Summary of DataFrame\n",
        "print(\"\\nDescribe:\\n\", df.describe())  # Descriptive statistics\n",
        "\n",
        "# 2. Selecting Data\n",
        "print(\"\\nSelecting a column:\\n\", df['col1'])\n",
        "print(\"\\nSelecting multiple columns:\\n\", df[['col1', 'col3']])\n",
        "print(\"\\nSelecting rows by index:\\n\", df.loc[0:2])  # Rows 0, 1, and 2\n",
        "print(\"\\nSelecting rows by condition:\\n\", df[df['col1'] > 2])\n",
        "print(\"\\nSelecting specific cell:\\n\", df.loc[0, 'col2']) # Row 0, Column 'col2'\n",
        "\n",
        "# 3. Adding/Removing Data\n",
        "df['col4'] = df['col1'] + df['col2']  # Adding a new column\n",
        "print(\"\\nDataFrame with new column:\\n\", df)\n",
        "df = df.drop('col4', axis=1)  # Removing a column\n",
        "print(\"\\nDataFrame after dropping column:\\n\", df)\n",
        "df = df.drop(0, axis=0) # Removing a row\n",
        "print(\"\\nDataFrame after dropping row:\\n\", df)\n",
        "\n",
        "# 4. Sorting Data\n",
        "df_sorted = df.sort_values(by='col2', ascending=False) # Sorting\n",
        "print(\"\\nSorted DataFrame:\\n\", df_sorted)\n",
        "\n",
        "# 5. Grouping Data\n",
        "grouped = df.groupby('col3')['col1'].sum()  # Grouping by 'col3' and summing 'col1'\n",
        "print(\"\\nGrouped DataFrame:\\n\", grouped)\n",
        "\n",
        "# 6. Handling Missing Data\n",
        "# Create a DataFrame with missing values\n",
        "data_missing = {'col1': [1, 2, None, 4, 5],\n",
        "                'col2': [6, None, 8, 9, 10]}\n",
        "df_missing = pd.DataFrame(data_missing)\n",
        "print(\"\\nDataFrame with missing values:\\n\", df_missing)\n",
        "\n",
        "df_filled = df_missing.fillna(0) # Filling missing values with 0\n",
        "print(\"\\nDataFrame with filled missing values:\\n\", df_filled)\n",
        "\n",
        "# 7. Applying Functions\n",
        "df['col1_squared'] = df['col1'].apply(lambda x: x**2)  # Apply a function to a column\n",
        "print(\"\\nDataFrame with applied function:\\n\", df)\n",
        "\n",
        "# 8. Merging/Joining DataFrames\n",
        "# Create another DataFrame for merging\n",
        "data2 = {'col1': [3, 4, 5], 'col5': [11, 12, 13]}\n",
        "df2 = pd.DataFrame(data2)\n",
        "merged_df = pd.merge(df, df2, on='col1', how='inner') # Merging DataFrames\n",
        "print(\"\\nMerged DataFrame:\\n\", merged_df)\n",
        "\n",
        "# 9. Data Aggregation\n",
        "print(\"\\nSum of 'col1':\\n\", df['col1'].sum()) # Calculate sum\n",
        "print(\"\\nMean of 'col2':\\n\", df['col2'].mean()) # Calculate mean\n",
        "print(\"\\nMax of 'col1':\\n\", df['col1'].max()) # Calculate max\n",
        "\n",
        "\n",
        "# 10. Pivot Tables\n",
        "pivot_table = pd.pivot_table(df, values='col2', index='col3', aggfunc='sum')\n",
        "print(\"\\nPivot table:\\n\",pivot_table)"
      ]
    }
  ]
}